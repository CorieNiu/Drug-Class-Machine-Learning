{
 "cells": [
  {
   "cell_type": "code",
   "execution_count": 4,
   "metadata": {},
   "outputs": [],
   "source": [
    "%matplotlib inline\n",
    "import pandas as pd \n",
    "import numpy as np\n",
    "import seaborn as sns\n",
    "import matplotlib.pyplot as plt\n",
    "import sklearn\n",
    "from sklearn import preprocessing, model_selection, decomposition, linear_model, ensemble, metrics\n",
    "\n",
    "sns.set_style('whitegrid')\n",
    "sns.set_context('paper')"
   ]
  },
  {
   "cell_type": "markdown",
   "metadata": {},
   "source": [
    "# Exposure Data Predictions \n",
    "\n",
    "In this notebook we are just looking at whether we can predict any exposure vs control: i.e. can we detect perturbation/distress is there any signal overall\n",
    "\n",
    "## Data Parsing"
   ]
  },
  {
   "cell_type": "code",
   "execution_count": 5,
   "metadata": {},
   "outputs": [],
   "source": [
    "import pandas as pd \n",
    "import seaborn as sns\n",
    "import matplotlib.pyplot as plt\n",
    "import sklearn\n",
    "\n",
    "raw_data = pd.read_csv('Pharmaceuticals-Normalized-Data.txt', sep='\\t').set_index('Probe')\n",
    "cbz_data = raw_data[[x for x in raw_data.columns if \"CBZ\" in x]]\n",
    "exposure_labels = []\n",
    "gender = []\n",
    "for sample in cbz_data.columns:\n",
    "    # if sample is a control\n",
    "    if sample[-2] == 'C':\n",
    "        exposure_labels.append(0)\n",
    "    else:\n",
    "        exposure_labels.append(1)\n",
    "    \n",
    "    if \"Female\" in sample:\n",
    "        gender.append(1)\n",
    "    else:\n",
    "        gender.append(0)\n",
    "        \n",
    "# take the transpose to make it the appropriate orientation\n",
    "cbz_data = cbz_data.T\n",
    "\n",
    "# add these labels\n",
    "cbz_data['gender'] = gender\n",
    "cbz_data['exposure'] = exposure_labels"
   ]
  },
  {
   "cell_type": "markdown",
   "metadata": {},
   "source": [
    "## Exploratory Data Analysis"
   ]
  },
  {
   "cell_type": "code",
   "execution_count": 6,
   "metadata": {},
   "outputs": [],
   "source": [
    "# visualise your data\n",
    "#sns.clustermap(cbz_data.iloc[:1000])"
   ]
  },
  {
   "cell_type": "code",
   "execution_count": 7,
   "metadata": {},
   "outputs": [],
   "source": [
    "# describe samples by exposure type\n",
    "#exposure_features = cbz_data.groupby('exposure').describe()"
   ]
  },
  {
   "cell_type": "code",
   "execution_count": 8,
   "metadata": {},
   "outputs": [],
   "source": [
    "# which  features are highest average in exposure\n",
    "# which are lowest \n",
    "# how about the variance"
   ]
  },
  {
   "cell_type": "markdown",
   "metadata": {},
   "source": [
    "## Test-train splitting\n",
    "\n",
    "The dataset now needs split into training and test-sets"
   ]
  },
  {
   "cell_type": "code",
   "execution_count": 9,
   "metadata": {},
   "outputs": [],
   "source": [
    "X_train, X_test, y_train, y_test = model_selection.train_test_split(cbz_data.drop('exposure', axis=1), \n",
    "                                                                    cbz_data['exposure'], \n",
    "                                                    test_size=0.20, random_state=42)"
   ]
  },
  {
   "cell_type": "markdown",
   "metadata": {},
   "source": [
    "## Normalization \n",
    "\n",
    "Normalise the ranges involved as it makes PCA/dimensionality reduction more stable"
   ]
  },
  {
   "cell_type": "code",
   "execution_count": 10,
   "metadata": {},
   "outputs": [],
   "source": [
    "# we need to apply the same transform at the end\n",
    "min_max_scaler = preprocessing.MinMaxScaler()\n",
    "X_train_scaled = min_max_scaler.fit_transform(X_train)"
   ]
  },
  {
   "cell_type": "markdown",
   "metadata": {},
   "source": [
    "## PCA\n",
    "\n",
    "PCA is divided into 2 parts: data visualization and speed up machine learning algorithm "
   ]
  },
  {
   "cell_type": "code",
   "execution_count": 11,
   "metadata": {},
   "outputs": [],
   "source": [
    "# can't use \"mle\" because we have so few samples\n",
    "pca = decomposition.PCA(n_components=10, random_state=42)\n",
    "X_train_scaled_pca = pca.fit_transform(X_train_scaled)"
   ]
  },
  {
   "cell_type": "code",
   "execution_count": 12,
   "metadata": {},
   "outputs": [
    {
     "data": {
      "text/plain": [
       "Text(0.5, 0, 'Principal Components')"
      ]
     },
     "execution_count": 12,
     "metadata": {},
     "output_type": "execute_result"
    },
    {
     "data": {
      "image/png": "[encoded data removed]",
      "text/plain": [
       "<Figure size 432x288 with 1 Axes>"
      ]
     },
     "metadata": {},
     "output_type": "display_data"
    }
   ],
   "source": [
    "plt.bar(range(pca.n_components), pca.explained_variance_ratio_)\n",
    "plt.ylabel('Variance Explained (%)')\n",
    "plt.xlabel(\"Principal Components\")"
   ]
  },
  {
   "cell_type": "code",
   "execution_count": 13,
   "metadata": {},
   "outputs": [
    {
     "data": {
      "text/plain": [
       "Text(0.5, 1.0, 'CBZ Training PCA')"
      ]
     },
     "execution_count": 13,
     "metadata": {},
     "output_type": "execute_result"
    },
    {
     "data": {
      "image/png": "[encoded data removed]",
      "text/plain": [
       "<Figure size 432x288 with 1 Axes>"
      ]
     },
     "metadata": {},
     "output_type": "display_data"
    }
   ],
   "source": [
    "# get first two PCs\n",
    "pca_train_for_plotting = pd.DataFrame(X_train_scaled_pca, index=y_train.index)\n",
    "pca_train_for_plotting['Exposure'] = y_train.replace({1: 'Exposed', 0: 'Control'})\n",
    "pca_train_for_plotting['Gender'] = X_train['gender'].replace({1: 'Female', 0: 'Male'})\n",
    "sns.scatterplot(data = pca_train_for_plotting, x=0, y=1, hue='Exposure', style='Gender')\n",
    "plt.ylabel('PC2')\n",
    "plt.xlabel('PC1')\n",
    "plt.title(\"CBZ Training PCA\")"
   ]
  },
  {
   "cell_type": "code",
   "execution_count": 14,
   "metadata": {},
   "outputs": [
    {
     "data": {
      "text/plain": [
       "<seaborn.matrix.ClusterGrid at 0x7f625829bd00>"
      ]
     },
     "execution_count": 14,
     "metadata": {},
     "output_type": "execute_result"
    },
    {
     "data": {
      "image/png": "[encoded data removed]",
      "text/plain": [
       "<Figure size 720x720 with 4 Axes>"
      ]
     },
     "metadata": {},
     "output_type": "display_data"
    }
   ],
   "source": [
    "sns.clustermap(X_train_scaled_pca,  )"
   ]
  },
  {
   "cell_type": "markdown",
   "metadata": {},
   "source": [
    "## Fit Model\n",
    "\n",
    "Start with a simple model like logistic regression\n",
    "\n",
    "You can also try random forest\n",
    "\n",
    "We need 6 instances as we want to try training each type of model on:\n",
    "- non-normalised data\n",
    "- normalised data\n",
    "- decomposed (PCA) data"
   ]
  },
  {
   "cell_type": "code",
   "execution_count": 15,
   "metadata": {},
   "outputs": [],
   "source": [
    "train_scores = {}\n",
    "\n",
    "lr_clf = linear_model.LogisticRegression(penalty='none')\n",
    "lr_clf.fit(X_train, y_train)\n",
    "train_scores['Logistic Regression'] = lr_clf.score(X_train, y_train)\n",
    "\n",
    "\n",
    "lr_clf_norm = linear_model.LogisticRegression(penalty='none')\n",
    "lr_clf_norm.fit(X_train_scaled, y_train)\n",
    "train_scores['Logistic Regression Normalised'] = lr_clf_norm.score(X_train_scaled, y_train)\n",
    "\n",
    "\n",
    "lr_clf_pca = linear_model.LogisticRegression(penalty='none')\n",
    "lr_clf_pca.fit(X_train_scaled_pca, y_train)\n",
    "train_scores['Logistic Regression PCA'] = lr_clf_pca.score(X_train_scaled_pca, y_train)"
   ]
  },
  {
   "cell_type": "code",
   "execution_count": 16,
   "metadata": {},
   "outputs": [],
   "source": [
    "rf_clf = ensemble.RandomForestClassifier()\n",
    "rf_clf.fit(X_train, y_train)\n",
    "train_scores['Random Forest'] = rf_clf.score(X_train, y_train)\n",
    "\n",
    "rf_clf_norm = ensemble.RandomForestClassifier()\n",
    "rf_clf_norm.fit(X_train_scaled, y_train)\n",
    "train_scores['Random Forest Normalised'] = rf_clf_norm.score(X_train_scaled, y_train)\n",
    "\n",
    "rf_clf_pca = ensemble.RandomForestClassifier()\n",
    "rf_clf_pca.fit(X_train_scaled_pca, y_train)\n",
    "train_scores['Random Forest PCA'] = rf_clf_pca.score(X_train_scaled_pca, y_train)"
   ]
  },
  {
   "cell_type": "code",
   "execution_count": 17,
   "metadata": {},
   "outputs": [
    {
     "data": {
      "text/plain": [
       "<matplotlib.axes._subplots.AxesSubplot at 0x7f6253da5fd0>"
      ]
     },
     "execution_count": 17,
     "metadata": {},
     "output_type": "execute_result"
    },
    {
     "data": {
      "image/png": "[encoded data removed]",
      "text/plain": [
       "<Figure size 432x288 with 1 Axes>"
      ]
     },
     "metadata": {},
     "output_type": "display_data"
    }
   ],
   "source": [
    "train_score_df = pd.Series(train_scores, name='Mean Accuracy').reset_index().rename(columns={'index': 'Models'})\n",
    "sns.barplot(data = train_score_df, x='Mean Accuracy', y='Models')"
   ]
  },
  {
   "cell_type": "markdown",
   "metadata": {},
   "source": [
    "## Test set performance\n",
    "\n",
    "Need to preprocess our test set in the same way as our training set but we can only really select one model to prevent over-fitting to our test-set"
   ]
  },
  {
   "cell_type": "code",
   "execution_count": 18,
   "metadata": {},
   "outputs": [],
   "source": [
    "X_test_scaled = min_max_scaler.transform(X_test)\n",
    "X_test_scaled_pca = pca.transform(X_test_scaled)"
   ]
  },
  {
   "cell_type": "code",
   "execution_count": 19,
   "metadata": {},
   "outputs": [
    {
     "name": "stdout",
     "output_type": "stream",
     "text": [
      "              precision    recall  f1-score   support\n",
      "\n",
      "     Exposed       0.00      0.00      0.00         2\n",
      "     Control       0.50      1.00      0.67         2\n",
      "\n",
      "    accuracy                           0.50         4\n",
      "   macro avg       0.25      0.50      0.33         4\n",
      "weighted avg       0.25      0.50      0.33         4\n",
      "\n"
     ]
    },
    {
     "name": "stderr",
     "output_type": "stream",
     "text": [
      "/home/fin/miniconda3/envs/eda/lib/python3.8/site-packages/sklearn/metrics/_classification.py:1272: UndefinedMetricWarning: Precision and F-score are ill-defined and being set to 0.0 in labels with no predicted samples. Use `zero_division` parameter to control this behavior.\n",
      "  _warn_prf(average, modifier, msg_start, len(result))\n"
     ]
    }
   ],
   "source": [
    "y_pred = lr_clf.predict(X_test)\n",
    "print(metrics.classification_report(y_test, y_pred, target_names=['Exposed', 'Control']))"
   ]
  }
 ],
 "metadata": {
  "kernelspec": {
   "display_name": "Python 3",
   "language": "python",
   "name": "python3"
  },
  "language_info": {
   "codemirror_mode": {
    "name": "ipython",
    "version": 3
   },
   "file_extension": ".py",
   "mimetype": "text/x-python",
   "name": "python",
   "nbconvert_exporter": "python",
   "pygments_lexer": "ipython3",
   "version": "3.7.4"
  }
 },
 "nbformat": 4,
 "nbformat_minor": 2
}
